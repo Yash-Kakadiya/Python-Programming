{
 "cells": [
  {
   "attachments": {},
   "cell_type": "markdown",
   "metadata": {},
   "source": [
    "<a href='https://www.darshan.ac.in/'> <img src='https://www.darshan.ac.in/Content/media/DU_Logo.svg' width=\"250\" height=\"300\"/></a>\n",
    "<pre>\n",
    "<center><b><h1>Python Programming - 2301CS404</b></center>\n",
    "<center><b><h1>Lab - 9</b></center>  \n",
    "<center><b><h1>Yash Kakadiya | 23010101121 | 04-02-2025</b></center>  \n",
    "<pre>"
   ]
  },
  {
   "attachments": {},
   "cell_type": "markdown",
   "metadata": {},
   "source": [
    "# File I/O"
   ]
  },
  {
   "attachments": {},
   "cell_type": "markdown",
   "metadata": {},
   "source": [
    "### 01) WAP to read and display the contents of a text file. (also try to open the file in some other directory) \n",
    "#### - in the form of a string\n",
    "#### - line by line\n",
    "#### - in the form of a list"
   ]
  },
  {
   "cell_type": "code",
   "execution_count": 34,
   "metadata": {},
   "outputs": [
    {
     "name": "stdout",
     "output_type": "stream",
     "text": [
      "abcdefghijklmnopqrstuvwxyz\n",
      "z\n",
      "sdgs\n",
      "hijklmnopqrstuvwy\n",
      "defghijklmnopqrstuvwy\n",
      "fdb\n",
      "vwy\n",
      "qrstuvwy\n",
      "----------------------------------------------------------------\n",
      "abcdefghijklmnopqrstuvwxyz\n",
      "\n",
      "----------------------------------------------------------------\n",
      "['abcdefghijklmnopqrstuvwxyz\\n', 'z\\n', 'sdgs\\n', 'hijklmnopqrstuvwy\\n', 'defghijklmnopqrstuvwy\\n', 'fdb\\n', 'vwy\\n', 'qrstuvwy']\n",
      "----------------------------------------------------------------\n"
     ]
    }
   ],
   "source": [
    "fp=open('./new1.txt', 'r')\n",
    "print (fp.read())\n",
    "print ('----------------------------------------------------------------')\n",
    "fp.seek(0,0)\n",
    "print (fp.readline())\n",
    "print ('----------------------------------------------------------------')\n",
    "fp.seek(0,0)\n",
    "print (fp.readlines())\n",
    "print ('----------------------------------------------------------------')\n",
    "fp.close()"
   ]
  },
  {
   "attachments": {},
   "cell_type": "markdown",
   "metadata": {},
   "source": [
    "### 02) WAP to create file named \"new.txt\" only if it doesn't exist."
   ]
  },
  {
   "cell_type": "code",
   "execution_count": 35,
   "metadata": {},
   "outputs": [],
   "source": [
    "fp=open('./new.txt','w')\n",
    "\n",
    "fp.close()"
   ]
  },
  {
   "attachments": {},
   "cell_type": "markdown",
   "metadata": {},
   "source": [
    "### 03) WAP to read first 5 lines from the text file."
   ]
  },
  {
   "cell_type": "code",
   "execution_count": 39,
   "metadata": {},
   "outputs": [
    {
     "name": "stdout",
     "output_type": "stream",
     "text": [
      "1\n",
      "\n",
      "2\n",
      "\n",
      "3\n",
      "\n",
      "4\n",
      "\n",
      "5\n",
      "\n",
      "----------------------------------------------------------------\n"
     ]
    }
   ],
   "source": [
    "fp=open('./new1.txt', 'r')\n",
    "for i in range(5):\n",
    "    print (fp.readline())\n",
    "print ('----------------------------------------------------------------')\n",
    "fp.close()"
   ]
  },
  {
   "attachments": {},
   "cell_type": "markdown",
   "metadata": {},
   "source": [
    "### 04) WAP to find the longest word(s) in a file"
   ]
  },
  {
   "cell_type": "code",
   "execution_count": null,
   "metadata": {},
   "outputs": [],
   "source": []
  },
  {
   "attachments": {},
   "cell_type": "markdown",
   "metadata": {},
   "source": [
    "### 05) WAP to count the no. of lines, words and characters in a given text file."
   ]
  },
  {
   "cell_type": "code",
   "execution_count": 48,
   "metadata": {},
   "outputs": [
    {
     "name": "stdout",
     "output_type": "stream",
     "text": [
      "Lines: 7 Words: 7 Characters: 7\n"
     ]
    }
   ],
   "source": [
    "fp=open('./new1.txt', 'r')\n",
    "\n",
    "lines=0\n",
    "words=0\n",
    "chars=0\n",
    "for line in fp:\n",
    "    lines+=1\n",
    "    words+=len(line.split())\n",
    "fp.seek(0,0)\n",
    "chars=len(fp.read())-lines\n",
    "print ('Lines:', lines, 'Words:', words,'Characters:',chars)\n",
    "fp.close()\n"
   ]
  },
  {
   "attachments": {},
   "cell_type": "markdown",
   "metadata": {},
   "source": [
    "### 06) WAP to copy the content of a file to the another file."
   ]
  },
  {
   "cell_type": "code",
   "execution_count": 49,
   "metadata": {},
   "outputs": [],
   "source": [
    "fp1=open('./new1.txt', 'r')\n",
    "fp2=open('./new1Copy.txt', 'w')\n",
    "\n",
    "fp2.write(fp1.read())\n",
    "\n",
    "fp1.close()\n",
    "fp2.close()"
   ]
  },
  {
   "attachments": {},
   "cell_type": "markdown",
   "metadata": {},
   "source": [
    "### 07) WAP to find the size of the text file. "
   ]
  },
  {
   "cell_type": "code",
   "execution_count": 61,
   "metadata": {},
   "outputs": [
    {
     "name": "stdout",
     "output_type": "stream",
     "text": [
      "Size of file: 21\n"
     ]
    }
   ],
   "source": [
    "# import os\n",
    "\n",
    "# size=os.path.getsize('./new1.txt')\n",
    "# print ('Size of file:', size)\n",
    "\n",
    "fp=open('./new1.txt', 'r')\n",
    "fp.seek(0,2)\n",
    "size=fp.tell()\n",
    "\n",
    "print ('Size of file:', size)\n",
    "fp.close()"
   ]
  },
  {
   "attachments": {},
   "cell_type": "markdown",
   "metadata": {},
   "source": [
    "### 08) WAP to create an UDF named frequency to count occurances of the specific word in a given text file."
   ]
  },
  {
   "cell_type": "code",
   "execution_count": 69,
   "metadata": {},
   "outputs": [
    {
     "name": "stdout",
     "output_type": "stream",
     "text": [
      "4\n"
     ]
    }
   ],
   "source": [
    "def find_frequency(fp, word):\n",
    "    count=0\n",
    "    words=fp.read().lower().split()\n",
    "    for i in words:\n",
    "        if i==word.lower():\n",
    "            count+=1\n",
    "    return count\n",
    "\n",
    "fp=open('./new1.txt', 'r')\n",
    "word='yash'\n",
    "print(find_frequency(fp,word))\n",
    "\n",
    "fp.close()"
   ]
  },
  {
   "attachments": {},
   "cell_type": "markdown",
   "metadata": {},
   "source": [
    "### 09) WAP to get the score of five subjects from the user, store them in a file. Fetch those marks and find the highest score."
   ]
  },
  {
   "cell_type": "code",
   "execution_count": null,
   "metadata": {},
   "outputs": [],
   "source": []
  },
  {
   "attachments": {},
   "cell_type": "markdown",
   "metadata": {},
   "source": [
    "### 10) WAP to write first 100 prime numbers to a file named primenumbers.txt \n",
    "(Note: each number should be in new line)"
   ]
  },
  {
   "cell_type": "code",
   "execution_count": 79,
   "metadata": {},
   "outputs": [
    {
     "name": "stdout",
     "output_type": "stream",
     "text": [
      "\n"
     ]
    }
   ],
   "source": [
    "import math\n",
    "def write_primenumbers(fp):\n",
    "    primes=[]\n",
    "    n=2\n",
    "    while len(primes)<100:\n",
    "        if isPrime(n):\n",
    "            primes.append(n) \n",
    "            fp.write(str(n)+'\\n')\n",
    "        n+=1\n",
    "\n",
    "def isPrime(n):\n",
    "    for i in range(2,int(math.sqrt(n))+1):\n",
    "        if n%i==0:\n",
    "            return False\n",
    "    return True\n",
    "\n",
    "fp=open('./primenumbers.txt', 'a+')\n",
    "write_primenumbers(fp)\n",
    "print(fp.read())\n",
    "fp.close()"
   ]
  },
  {
   "attachments": {},
   "cell_type": "markdown",
   "metadata": {},
   "source": [
    "### 11) WAP to merge two files and write it in a new file."
   ]
  },
  {
   "cell_type": "code",
   "execution_count": 75,
   "metadata": {},
   "outputs": [],
   "source": [
    "fp1=open('new1.txt')\n",
    "fp2=open('new1Copy.txt')\n",
    "fp3=open('merge.txt','a')\n",
    "fp3.write(fp1.read())\n",
    "fp3.write(fp2.read())\n",
    "fp1.close()\n",
    "fp2.close()\n",
    "fp3.close()"
   ]
  },
  {
   "attachments": {},
   "cell_type": "markdown",
   "metadata": {},
   "source": [
    "### 12) WAP to replace word1 by word2 of a text file. Write the updated data to new file."
   ]
  },
  {
   "cell_type": "code",
   "execution_count": 83,
   "metadata": {},
   "outputs": [],
   "source": [
    "fp=open('new1.txt')\n",
    "\n",
    "new_content=fp.read().replace('yash', 'NewYash')\n",
    "\n",
    "fp=open('new1.txt', 'w')\n",
    "\n",
    "fp.write(new_content)\n",
    "\n",
    "fp.close()"
   ]
  },
  {
   "attachments": {},
   "cell_type": "markdown",
   "metadata": {},
   "source": [
    "### 13) Demonstrate tell() and seek() for all the cases(seek from beginning-end-current position) taking a suitable example of your choice."
   ]
  },
  {
   "cell_type": "code",
   "execution_count": null,
   "metadata": {},
   "outputs": [],
   "source": [
    "fp=open('new1.txt')\n",
    "\n",
    "print ('Initial position:', fp.tell())\n",
    "\n",
    "fp.seek(0,0)\n",
    "\n",
    "print ('Position after seeking to beginning:', fp.tell())\n",
    "\n",
    "fp.seek(0,2)\n",
    "\n",
    "print ('Position after seeking to end:', fp.tell())\n",
    "\n",
    "fp.seek(5,1)\n",
    "\n",
    "print ('Position after seeking 5 bytes from current position:', fp.tell())\n",
    "\n",
    "fp.close()"
   ]
  }
 ],
 "metadata": {
  "kernelspec": {
   "display_name": "Python 3 (ipykernel)",
   "language": "python",
   "name": "python3"
  },
  "language_info": {
   "codemirror_mode": {
    "name": "ipython",
    "version": 3
   },
   "file_extension": ".py",
   "mimetype": "text/x-python",
   "name": "python",
   "nbconvert_exporter": "python",
   "pygments_lexer": "ipython3",
   "version": "3.11.4"
  }
 },
 "nbformat": 4,
 "nbformat_minor": 4
}
