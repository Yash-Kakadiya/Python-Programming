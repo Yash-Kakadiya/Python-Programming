{
 "cells": [
  {
   "cell_type": "markdown",
   "metadata": {},
   "source": [
    "<a href='https://www.darshan.ac.in/'> <img src='https://www.darshan.ac.in/Content/media/DU_Logo.svg' width=\"250\" height=\"10\"/></a>\n",
    "<pre>\n",
    "<center><b><h1>Python Programming - 2301CS404</b></center>\n",
    "<center><b><h1>Lab - 1</b></center>\n",
    "<center><b><h1>Yash Kakadiya | 23010101121 | 26-11-24</b></center>\n",
    "<pre>"
   ]
  },
  {
   "cell_type": "markdown",
   "metadata": {},
   "source": [
    "### 01) WAP to print “Hello World”"
   ]
  },
  {
   "cell_type": "code",
   "execution_count": null,
   "metadata": {},
   "outputs": [],
   "source": [
    "print('Hello World')"
   ]
  },
  {
   "cell_type": "markdown",
   "metadata": {},
   "source": [
    "### 02) WAP to print addition of two numbers with and without using input()."
   ]
  },
  {
   "cell_type": "code",
   "execution_count": null,
   "metadata": {},
   "outputs": [],
   "source": [
    "x = 3\n",
    "y = 4\n",
    "\n",
    "print(\"Addition without using input: \", x + y)\n",
    "\n",
    "x = int(input(\"Enter a number: \"))\n",
    "y = int(input(\"Enter another number: \"))\n",
    "\n",
    "print(\"Addition using input:\", x + y)"
   ]
  },
  {
   "cell_type": "markdown",
   "metadata": {},
   "source": [
    "### 03) WAP to check the type of the variable."
   ]
  },
  {
   "cell_type": "code",
   "execution_count": null,
   "metadata": {},
   "outputs": [
    {
     "name": "stdout",
     "output_type": "stream",
     "text": [
      "Type of x:  <class 'str'>\n"
     ]
    }
   ],
   "source": [
    "x = \"¥@$#\"\n",
    "\n",
    "print(\"Type of x:\", type(x))"
   ]
  },
  {
   "cell_type": "markdown",
   "metadata": {},
   "source": [
    "### 04) WAP to calculate simple interest."
   ]
  },
  {
   "cell_type": "code",
   "execution_count": null,
   "metadata": {},
   "outputs": [
    {
     "name": "stdout",
     "output_type": "stream",
     "text": [
      "Principle amount:  10000\n",
      "Rate of amount:  10\n",
      "Time period:  2 years\n",
      "Simple Interest:  2000.0\n",
      "Net amount:  12000.0\n"
     ]
    }
   ],
   "source": [
    "p = int(input(\"Enter principle amount: \"))\n",
    "rate = int(input(\"Enter rate of interest: \"))\n",
    "time = int(input(\"Enter time period in years: \"))\n",
    "\n",
    "simple_interest = (p * rate * time) / 100\n",
    "\n",
    "print(\"Principle amount:\", p)\n",
    "print(\"Rate of amount:\", rate)\n",
    "print(\"Time period:\", time, \"years\")\n",
    "print(\"Simple Interest:\", simple_interest)\n",
    "print(\"Net amount:\", simple_interest + p)"
   ]
  },
  {
   "cell_type": "markdown",
   "metadata": {},
   "source": [
    "### 05) WAP to calculate area and perimeter of a circle."
   ]
  },
  {
   "cell_type": "code",
   "execution_count": null,
   "metadata": {},
   "outputs": [
    {
     "name": "stdout",
     "output_type": "stream",
     "text": [
      "Radius of circle:  100\n",
      "Perimeter:  628.3185307179587\n",
      "Area:  31415.926535897932\n"
     ]
    }
   ],
   "source": [
    "import math\n",
    "\n",
    "r = int(input(\"Enter radius: \"))\n",
    "\n",
    "perimeter = 2 * math.pi * r\n",
    "area = math.pi * r * r\n",
    "\n",
    "print(\"Radius of circle:\", r)\n",
    "print(\"Perimeter:\", perimeter)\n",
    "print(\"Area: \", area)"
   ]
  },
  {
   "cell_type": "markdown",
   "metadata": {},
   "source": [
    "### 06) WAP to calculate area of a triangle."
   ]
  },
  {
   "cell_type": "code",
   "execution_count": null,
   "metadata": {},
   "outputs": [
    {
     "name": "stdout",
     "output_type": "stream",
     "text": [
      "Height of triangle:  10\n",
      "Base length of triangle:  5\n",
      "Area of triangle:  25.0\n"
     ]
    }
   ],
   "source": [
    "height = int(input(\"Enter height of triangle: \"))\n",
    "base = int(input(\"Enter base length of triangle: \"))\n",
    "\n",
    "area = (height * base) / 2\n",
    "\n",
    "print(\"Height of triangle:\", height)\n",
    "print(\"Base length of triangle:\", base)\n",
    "print(\"Area of triangle:\", area)"
   ]
  },
  {
   "cell_type": "markdown",
   "metadata": {},
   "source": [
    "### 07) WAP to compute quotient and remainder."
   ]
  },
  {
   "cell_type": "code",
   "execution_count": null,
   "metadata": {},
   "outputs": [
    {
     "name": "stdout",
     "output_type": "stream",
     "text": [
      "Dividend:  5\n",
      "Divisor:  2\n",
      "Quotient:  2\n",
      "Remainder:  1\n"
     ]
    }
   ],
   "source": [
    "a = int(input(\"Enter dividend: \"))\n",
    "b = int(input(\"Enter diviser: \"))\n",
    "\n",
    "quotient = a // b\n",
    "remainder = a % b\n",
    "\n",
    "print(\"Dividend:\", a)\n",
    "print(\"Divisor:\", b)\n",
    "print(\"Quotient:\", quotient)\n",
    "print(\"Remainder:\", remainder)"
   ]
  },
  {
   "cell_type": "markdown",
   "metadata": {},
   "source": [
    "### 08) WAP to convert degree into Fahrenheit and vice versa."
   ]
  },
  {
   "cell_type": "code",
   "execution_count": 7,
   "metadata": {},
   "outputs": [
    {
     "name": "stdout",
     "output_type": "stream",
     "text": [
      "0.0  degree celcius in Fahrenheit: 32.0\n",
      "32.0 fahrenheit in degree Celcius: 0.0\n"
     ]
    }
   ],
   "source": [
    "c = float(input(\"Enter degree celcius: \"))\n",
    "\n",
    "f = (c * 9 / 5) + 32\n",
    "\n",
    "print(c, \" degree celcius in Fahrenheit:\", f)\n",
    "\n",
    "f = float(input(\"Enter fahrenheit: \"))\n",
    "\n",
    "c = (f - 32) * 5 / 9\n",
    "\n",
    "print(f, \"fahrenheit in degree Celcius:\", c)"
   ]
  },
  {
   "cell_type": "markdown",
   "metadata": {},
   "source": [
    "### 09) WAP to find the distance between two points in 2-D space."
   ]
  },
  {
   "cell_type": "code",
   "execution_count": null,
   "metadata": {},
   "outputs": [
    {
     "name": "stdout",
     "output_type": "stream",
     "text": [
      "Distance between ( 10 , 10 ) and ( 0 , 10 ) is  10.0 units\n"
     ]
    }
   ],
   "source": [
    "x1=int(input(\"Enter x1: \"));\n",
    "y1=int(input(\"Enter y1: \"));\n",
    "\n",
    "x2=int(input(\"Enter x2: \"));\n",
    "y2=int(input(\"Enter y2: \"));\n",
    "\n",
    "distance= math.sqrt(((x2-x1)**2 + (y2-y1)**2))\n",
    "\n",
    "print('Distance between (',x1,',',y1,') and (',x2,',',y2,') is ', distance, 'units')"
   ]
  },
  {
   "cell_type": "markdown",
   "metadata": {},
   "source": [
    "### 10) WAP to print sum of n natural numbers."
   ]
  },
  {
   "cell_type": "code",
   "execution_count": 9,
   "metadata": {},
   "outputs": [
    {
     "name": "stdout",
     "output_type": "stream",
     "text": [
      "Sum of first 10 natural numbers is 55.0\n"
     ]
    }
   ],
   "source": [
    "n = int(input(\"Enter n for sum: \"))\n",
    "\n",
    "sum = (n * (n + 1)) / 2\n",
    "\n",
    "print(\"Sum of first\", n, \"natural numbers is\", sum)"
   ]
  },
  {
   "cell_type": "markdown",
   "metadata": {},
   "source": [
    "### 11) WAP to print sum of square of n natural numbers."
   ]
  },
  {
   "cell_type": "code",
   "execution_count": 12,
   "metadata": {},
   "outputs": [
    {
     "name": "stdout",
     "output_type": "stream",
     "text": [
      "Sum of square first 5 natural numbers is 55.0\n"
     ]
    }
   ],
   "source": [
    "n = int(input(\"Enter n for sum of square: \"))\n",
    "\n",
    "sum = n * (n + 1) * (2 * n + 1) / 6\n",
    "\n",
    "print(\"Sum of square first\", n, \"natural numbers is\", sum)"
   ]
  },
  {
   "cell_type": "markdown",
   "metadata": {},
   "source": [
    "### 12) WAP to concate the first and last name of the student."
   ]
  },
  {
   "cell_type": "code",
   "execution_count": 13,
   "metadata": {},
   "outputs": [
    {
     "name": "stdout",
     "output_type": "stream",
     "text": [
      "Full name: yash kakadiya\n"
     ]
    }
   ],
   "source": [
    "fname=input(\"Enter first name: \")\n",
    "lname=input(\"Enter last name: \")\n",
    "\n",
    "print(\"Full name:\", fname + \" \" + lname)"
   ]
  },
  {
   "cell_type": "markdown",
   "metadata": {},
   "source": [
    "### 13) WAP to swap two numbers."
   ]
  },
  {
   "cell_type": "code",
   "execution_count": 14,
   "metadata": {},
   "outputs": [
    {
     "name": "stdout",
     "output_type": "stream",
     "text": [
      "Before swapping:\n",
      "First number: 1\n",
      "Second number: 2\n",
      "After swapping:\n",
      "First number: 2\n",
      "Second number: 1\n"
     ]
    }
   ],
   "source": [
    "a = int(input(\"Enter a number: \"))\n",
    "b = int(input(\"Enter another number: \"))\n",
    "\n",
    "print(\"Before swapping:\")\n",
    "print(\"First number:\", a)\n",
    "print(\"Second number:\", b)\n",
    "\n",
    "a, b = b, a\n",
    "\n",
    "print(\"After swapping:\")\n",
    "print(\"First number:\", a)\n",
    "print(\"Second number:\", b)"
   ]
  },
  {
   "cell_type": "markdown",
   "metadata": {},
   "source": [
    "### 14) WAP to get the distance from user into kilometer, and convert it into meter, feet, inches and centimeter."
   ]
  },
  {
   "cell_type": "code",
   "execution_count": 16,
   "metadata": {},
   "outputs": [
    {
     "name": "stdout",
     "output_type": "stream",
     "text": [
      "1 km = 1000 m = 100000 cm = 39370.07874015748 inches = 3280.839895013123 feets\n"
     ]
    }
   ],
   "source": [
    "km = int(input(\"Enter distance in kilometers: \"))\n",
    "\n",
    "m = km * 1000\n",
    "cm = m * 100\n",
    "inches = cm / 2.54\n",
    "feet = inches / 12\n",
    "\n",
    "print(km, \"km =\", m, \"m =\", cm, \"cm =\", inches, \"inches =\", feet, \"feets\")"
   ]
  },
  {
   "cell_type": "markdown",
   "metadata": {},
   "source": [
    "### 15) WAP to get day, month and year from the user and print the date in the given format: 23-11-2024."
   ]
  },
  {
   "cell_type": "code",
   "execution_count": null,
   "metadata": {},
   "outputs": [
    {
     "name": "stdout",
     "output_type": "stream",
     "text": [
      "1-12-2005\n"
     ]
    }
   ],
   "source": [
    "day = int(input(\"Enter day: \"))\n",
    "month = int(input(\"Enter month: \"))\n",
    "year = int(input(\"Enter year: \"))\n",
    "\n",
    "print(day, month, year, sep=\"-\")"
   ]
  }
 ],
 "metadata": {
  "kernelspec": {
   "display_name": "Python 3",
   "language": "python",
   "name": "python3"
  },
  "language_info": {
   "codemirror_mode": {
    "name": "ipython",
    "version": 3
   },
   "file_extension": ".py",
   "mimetype": "text/x-python",
   "name": "python",
   "nbconvert_exporter": "python",
   "pygments_lexer": "ipython3",
   "version": "3.13.0"
  }
 },
 "nbformat": 4,
 "nbformat_minor": 4
}
