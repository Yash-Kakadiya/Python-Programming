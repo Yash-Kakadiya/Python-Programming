{
 "cells": [
  {
   "cell_type": "markdown",
   "metadata": {},
   "source": [
    "\n",
    "<a href='https://www.darshan.ac.in/'> <img src='https://www.darshan.ac.in/Content/media/DU_Logo.svg' width=\"250\" height=\"300\"/></a>\n",
    "<pre>\n",
    "<center><b><h1>Python Programming - 2301CS404</b></center>\n",
    "<center><b><h1>Lab - 2</b></center>\n",
    "<center><b><h1>Yash Kakadiya | 23010101121 | 03-12-2024</b></center>    \n",
    "<pre>"
   ]
  },
  {
   "cell_type": "markdown",
   "metadata": {},
   "source": [
    "# if..else.."
   ]
  },
  {
   "cell_type": "markdown",
   "metadata": {},
   "source": [
    "### 01) WAP to check whether the given number is positive or negative."
   ]
  },
  {
   "cell_type": "code",
   "execution_count": 2,
   "metadata": {},
   "outputs": [
    {
     "name": "stdout",
     "output_type": "stream",
     "text": [
      "7 is positive integer\n"
     ]
    }
   ],
   "source": [
    "n=int(input(\"Enter a number \"))\n",
    "\n",
    "if (n>=0):\n",
    "    print(n,'is positive integer')\n",
    "else:\n",
    "    print(n,'is positive integer')"
   ]
  },
  {
   "cell_type": "markdown",
   "metadata": {},
   "source": [
    "### 02) WAP to check whether the given number is odd or even."
   ]
  },
  {
   "cell_type": "code",
   "execution_count": 3,
   "metadata": {},
   "outputs": [
    {
     "name": "stdout",
     "output_type": "stream",
     "text": [
      "7 is odd integer\n"
     ]
    }
   ],
   "source": [
    "n=int(input(\"Enter a number \"))\n",
    "\n",
    "if (n%2==0):\n",
    "    print(n,'is even integer')\n",
    "else:\n",
    "    print(n,'is odd integer')"
   ]
  },
  {
   "cell_type": "markdown",
   "metadata": {},
   "source": [
    "### 03) WAP to find out largest number from given two numbers using simple if and ternary operator."
   ]
  },
  {
   "cell_type": "code",
   "execution_count": null,
   "metadata": {},
   "outputs": [
    {
     "name": "stdout",
     "output_type": "stream",
     "text": [
      "3 < 7\n",
      "3 < 7\n"
     ]
    }
   ],
   "source": [
    "a=int(input(\"Enter a number \"))\n",
    "b=int(input(\"Enter another number \"))\n",
    "\n",
    "if (a>b):\n",
    "    print(a,'>',b)\n",
    "elif (b>a):\n",
    "    print(a,'<',b)\n",
    "else:\n",
    "    print(a,'=',b)\n",
    "    \n",
    "print(a,'>',b) if(a>b)else print(a,'<',b)"
   ]
  },
  {
   "cell_type": "markdown",
   "metadata": {},
   "source": [
    "### 04) WAP to find out largest number from given three numbers."
   ]
  },
  {
   "cell_type": "code",
   "execution_count": 5,
   "metadata": {},
   "outputs": [
    {
     "name": "stdout",
     "output_type": "stream",
     "text": [
      "7 is largest\n"
     ]
    }
   ],
   "source": [
    "a=int(input(\"Enter a number \"))\n",
    "b=int(input(\"Enter another number \"))\n",
    "c=int(input(\"Enter another number \"))\n",
    "\n",
    "if (a>b):\n",
    "    if(a>c):\n",
    "        print(a,'is largest')\n",
    "    else:\n",
    "        print(c,'is largest')\n",
    "else:\n",
    "    if(b>c):\n",
    "        print(b,'is largest')\n",
    "    else:\n",
    "        print(c,'is largest')"
   ]
  },
  {
   "cell_type": "markdown",
   "metadata": {},
   "source": [
    "### 05) WAP to check whether the given year is leap year or not.\n",
    "[If a year can be divisible by 4 but not divisible by 100 then it is leap year but if it is divisible by 400 then it is leap year]"
   ]
  },
  {
   "cell_type": "code",
   "execution_count": 6,
   "metadata": {},
   "outputs": [
    {
     "name": "stdout",
     "output_type": "stream",
     "text": [
      "2024 is a leap year\n"
     ]
    }
   ],
   "source": [
    "y=int(input(\"Enter year \"))\n",
    "\n",
    "if ((y%4==0 and y%100!=0) or (y%400==0)):\n",
    "    print(y,'is a leap year')\n",
    "else:\n",
    "    print(y,'is a not leap year')"
   ]
  },
  {
   "cell_type": "markdown",
   "metadata": {},
   "source": [
    "### 06) WAP in python to display the name of the day according to the number given by the user."
   ]
  },
  {
   "cell_type": "code",
   "execution_count": 7,
   "metadata": {},
   "outputs": [
    {
     "name": "stdout",
     "output_type": "stream",
     "text": [
      "Saturday\n"
     ]
    }
   ],
   "source": [
    "d=int(input(\"Enter day index \"))-1\n",
    "d%=7\n",
    "\n",
    "match d:\n",
    "    case 0:\n",
    "        print('Sunday')\n",
    "    case 1:\n",
    "        print('Monday')\n",
    "    case 2:\n",
    "        print('Tuesday')\n",
    "    case 3:\n",
    "        print('Wednesday')\n",
    "    case 4:\n",
    "        print('Thursday')\n",
    "    case 5:\n",
    "        print('Friday')\n",
    "    case 6:\n",
    "        print('Saturday')\n",
    "    case _:\n",
    "        print('Invalid index')"
   ]
  },
  {
   "cell_type": "markdown",
   "metadata": {},
   "source": [
    "### 07) WAP to implement simple calculator which performs (add,sub,mul,div) of two no. based on user input."
   ]
  },
  {
   "cell_type": "code",
   "execution_count": 8,
   "metadata": {},
   "outputs": [
    {
     "name": "stdout",
     "output_type": "stream",
     "text": [
      "+\n",
      "4 + 3 = 7\n"
     ]
    }
   ],
   "source": [
    "a=int(input(\"Enter a number \"))\n",
    "o=input(\"enter valid operator \")\n",
    "b=int(input(\"Enter another number \"))\n",
    "\n",
    "print(o[0])\n",
    "\n",
    "match o[0]:\n",
    "    case '+':\n",
    "        print(a,'+',b,'=',(a+b))\n",
    "    case '-':\n",
    "        print(a,'-',b,'=',(a-b))\n",
    "    case '*':\n",
    "        print(a,'X',b,'=',(a*b))\n",
    "    case '/':\n",
    "        print(a,'/',b,'=',(a/b))\n",
    "    case _:\n",
    "        print('invalid operator')\n"
   ]
  },
  {
   "cell_type": "markdown",
   "metadata": {},
   "source": [
    "### 08) WAP to read marks of five subjects. Calculate percentage and print class accordingly. \n",
    "Fail below 35 </br>\n",
    "Pass Class between 35 to 45 </br>\n",
    "Second Class</br>\n",
    "between 45 to 60 First Class</br>\n",
    "between 60 to 70</br> \n",
    "Distinction if more than 70"
   ]
  },
  {
   "cell_type": "code",
   "execution_count": 11,
   "metadata": {},
   "outputs": [
    {
     "name": "stdout",
     "output_type": "stream",
     "text": [
      "Percentage: 77.0\n",
      "Distinction\n"
     ]
    }
   ],
   "source": [
    "s1=int(input(\"Enter marks of subject 1 \"))\n",
    "s2=int(input(\"Enter marks of subject 2 \"))\n",
    "s3=int(input(\"Enter marks of subject 3 \"))\n",
    "s4=int(input(\"Enter marks of subject 4 \"))\n",
    "s5=int(input(\"Enter marks of subject 5 \"))\n",
    "\n",
    "p= (s1+s2+s3+s4+s5)/5;\n",
    "print('Percentage:', p)\n",
    "\n",
    "if(p<35):\n",
    "    print('Fail')\n",
    "elif(p>=35 and p<45):\n",
    "    print('Pass')\n",
    "elif(p>=45 and p<60):\n",
    "    print('Second Class')\n",
    "elif(p>=60 and p<70):\n",
    "    print('First Class')\n",
    "elif(p>=70):\n",
    "    print('Distinction')    \n",
    "else:\n",
    "    print('Invalid input.')"
   ]
  },
  {
   "cell_type": "markdown",
   "metadata": {},
   "source": [
    "### 09) Three sides of a triangle are entered through the keyboard, WAP to check whether the triangle is isosceles, equilateral, scalene or right-angled triangle."
   ]
  },
  {
   "cell_type": "code",
   "execution_count": 13,
   "metadata": {},
   "outputs": [
    {
     "name": "stdout",
     "output_type": "stream",
     "text": [
      "3,4,5\n",
      "scalene or right-angled triangle\n"
     ]
    }
   ],
   "source": [
    "a=int(input(\"Enter first side \"))\n",
    "b=int(input(\"Enter second side \"))\n",
    "c=int(input(\"Enter third side \"))\n",
    "\n",
    "print(a, b, c,sep=',')\n",
    "if(a==b==c):\n",
    "    print('Triangle is equilateral')\n",
    "elif((a==b) or (b==c) or (a==c)):\n",
    "    print('Triangle is isosceles')\n",
    "elif((a**2==b**2+c**2) or (b**2==a**2+c**2) or (c**2==b**2+a**2)):\n",
    "    print('scalene or right-angled triangle')\n",
    "else:\n",
    "    print('Triangle')"
   ]
  },
  {
   "cell_type": "markdown",
   "metadata": {},
   "source": [
    "### 10) WAP to find the second largest number among three user input numbers."
   ]
  },
  {
   "cell_type": "code",
   "execution_count": 14,
   "metadata": {},
   "outputs": [
    {
     "name": "stdout",
     "output_type": "stream",
     "text": [
      "7 is largest\n"
     ]
    }
   ],
   "source": [
    "a=int(input(\"Enter a number \"))\n",
    "b=int(input(\"Enter another number \"))\n",
    "c=int(input(\"Enter another number \"))\n",
    "\n",
    "if (a>b):\n",
    "    if(a>c):\n",
    "        print(a,'is largest')\n",
    "    else:\n",
    "        print(c,'is largest')\n",
    "else:\n",
    "    if(b>c):\n",
    "        print(b,'is largest')\n",
    "    else:\n",
    "        print(c,'is largest')"
   ]
  },
  {
   "cell_type": "markdown",
   "metadata": {},
   "source": [
    "### 11) WAP to calculate electricity bill based on following criteria. Which takes the unit from the user.\n",
    "a. First 1 to 50 units – Rs. 2.60/unit</br>\n",
    "b. Next 50 to 100 units – Rs. 3.25/unit</br>\n",
    "c. Next 100 to 200 units – Rs. 5.26/unit</br>\n",
    "d. above 200 units – Rs. 8.45/unit"
   ]
  },
  {
   "cell_type": "code",
   "execution_count": 15,
   "metadata": {},
   "outputs": [
    {
     "name": "stdout",
     "output_type": "stream",
     "text": [
      "Electricity bill of  250 units is  1241.0\n"
     ]
    }
   ],
   "source": [
    "un=int(input(\"Enter a units in electricity bill \"))\n",
    "bill=0\n",
    "\n",
    "if(un>=0 and un<=50):\n",
    "    bill=(2.6*un)\n",
    "elif(un>50 and un<=100):\n",
    "    bill=(2.6*50)+(3.25*(un-50))\n",
    "elif(un>100 and un<=200):\n",
    "    bill=(2.6*50)+(3.25*50)+(5.26*(un-100))\n",
    "elif(un>200):\n",
    "    bill=(2.6*50)+(3.25*50)+(5.26*100)+(8.45*(un-200))\n",
    "\n",
    "print('Electricity bill of ',un,'units is ',bill);"
   ]
  }
 ],
 "metadata": {
  "kernelspec": {
   "display_name": "Python 3",
   "language": "python",
   "name": "python3"
  },
  "language_info": {
   "codemirror_mode": {
    "name": "ipython",
    "version": 3
   },
   "file_extension": ".py",
   "mimetype": "text/x-python",
   "name": "python",
   "nbconvert_exporter": "python",
   "pygments_lexer": "ipython3",
   "version": "3.13.0"
  }
 },
 "nbformat": 4,
 "nbformat_minor": 4
}
