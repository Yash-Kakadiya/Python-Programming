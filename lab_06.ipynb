{
 "cells": [
  {
   "cell_type": "markdown",
   "metadata": {},
   "source": [
    "<a href='https://www.darshan.ac.in/'> <img src='https://www.darshan.ac.in/Content/media/DU_Logo.svg' width=\"250\" height=\"300\"/></a>\n",
    "<pre>\n",
    "<center><b><h1>Python Programming - 2301CS404</b></center>\n",
    "<center><b><h1>Lab - 6</b></center>\n",
    "<center><b><h1>Yash Kakadiya | 23010101121 | 31-12-2024</b></center>    \n",
    "<pre>"
   ]
  },
  {
   "cell_type": "markdown",
   "metadata": {},
   "source": [
    "# Tuple"
   ]
  },
  {
   "cell_type": "markdown",
   "metadata": {},
   "source": [
    "### 01) WAP to find sum of tuple elements."
   ]
  },
  {
   "cell_type": "code",
   "execution_count": 4,
   "metadata": {},
   "outputs": [],
   "source": [
    "def createTuple():\n",
    "    n=int(input(\"Enter the Size of tuple:\"))\n",
    "    li=[]\n",
    "\n",
    "    for i in range(n):\n",
    "        element=int(input(\"Enter the element:\"))\n",
    "        li.append(element)\n",
    "\n",
    "    return tuple(li)"
   ]
  },
  {
   "cell_type": "code",
   "execution_count": 6,
   "metadata": {},
   "outputs": [
    {
     "name": "stdout",
     "output_type": "stream",
     "text": [
      "Enter the Size of tuple:5\n",
      "Enter the element:1\n",
      "Enter the element:2\n",
      "Enter the element:2\n",
      "Enter the element:2\n",
      "Enter the element:2\n",
      "9\n"
     ]
    }
   ],
   "source": [
    "tp=createTuple()\n",
    "sum=sum(tp)\n",
    "    \n",
    "print(sum)"
   ]
  },
  {
   "cell_type": "markdown",
   "metadata": {},
   "source": [
    "### 02) WAP to find Maximum and Minimum K elements in a given tuple."
   ]
  },
  {
   "cell_type": "code",
   "execution_count": 8,
   "metadata": {},
   "outputs": [
    {
     "name": "stdout",
     "output_type": "stream",
     "text": [
      "Enter the Size of tuple:10\n",
      "Enter the element:10\n",
      "Enter the element:9\n",
      "Enter the element:8\n",
      "Enter the element:7\n",
      "Enter the element:6\n",
      "Enter the element:5\n",
      "Enter the element:4\n",
      "Enter the element:3\n",
      "Enter the element:2\n",
      "Enter the element:1\n",
      "Enter k: 2\n",
      "Maximum K elements [9, 10]\n",
      "Minimum K elements [1, 2]\n"
     ]
    }
   ],
   "source": [
    "tp=createTuple()\n",
    "\n",
    "li=sorted(tp)\n",
    "k=int(input(\"Enter k: \"))\n",
    "\n",
    "print('Maximum K elements',li[-k:])\n",
    "print('Minimum K elements',li[:k])"
   ]
  },
  {
   "cell_type": "markdown",
   "metadata": {},
   "source": [
    "### 03) WAP to find tuples which have all elements divisible by K from a list of tuples."
   ]
  },
  {
   "cell_type": "code",
   "execution_count": 32,
   "metadata": {},
   "outputs": [
    {
     "name": "stdout",
     "output_type": "stream",
     "text": [
      "Enter the Size of list:2\n",
      "Enter the Size of tuple:2\n",
      "Enter the element:1\n",
      "Enter the element:2\n",
      "Enter the Size of tuple:2\n",
      "Enter the element:2\n",
      "Enter the element:4\n",
      "Enter k: 2\n",
      "[(2, 4)]\n"
     ]
    }
   ],
   "source": [
    "n=int(input(\"Enter the Size of list:\"))\n",
    "li=[]\n",
    "\n",
    "for i in range(n):\n",
    "        tp=createTuple()\n",
    "        li.append(tp)\n",
    "\n",
    "k=int(input(\"Enter k: \"))\n",
    "\n",
    "ans=[i for i in li if all(x%k==0 for x in i)]\n",
    "print(ans)"
   ]
  },
  {
   "cell_type": "markdown",
   "metadata": {},
   "source": [
    "### 04) WAP to create a list of tuples from given list having number and its cube in each tuple."
   ]
  },
  {
   "cell_type": "code",
   "execution_count": null,
   "metadata": {},
   "outputs": [],
   "source": []
  },
  {
   "cell_type": "markdown",
   "metadata": {},
   "source": [
    "### 05) WAP to find tuples with all positive elements from the given list of tuples."
   ]
  },
  {
   "cell_type": "code",
   "execution_count": 5,
   "metadata": {},
   "outputs": [
    {
     "name": "stdout",
     "output_type": "stream",
     "text": [
      "Enter the Size of list:2\n",
      "Enter the Size of tuple:2\n",
      "Enter the element:1\n",
      "Enter the element:-1\n",
      "Enter the Size of tuple:2\n",
      "Enter the element:2\n",
      "Enter the element:1\n",
      "Enter k: 2\n",
      "[(2, 1)]\n"
     ]
    }
   ],
   "source": [
    "n=int(input(\"Enter the Size of list:\"))\n",
    "li=[]\n",
    "\n",
    "for i in range(n):\n",
    "        tp=createTuple()\n",
    "        li.append(tp)\n",
    "\n",
    "ans=[i for i in li if all(x>0 for x in i)]\n",
    "print(ans)"
   ]
  },
  {
   "cell_type": "markdown",
   "metadata": {},
   "source": [
    "### 06) WAP to add tuple to list and vice – versa."
   ]
  },
  {
   "cell_type": "code",
   "execution_count": 33,
   "metadata": {},
   "outputs": [],
   "source": [
    "def createTpOfLi():\n",
    "    n=int(input(\"Enter the Size of tuple:\"))\n",
    "    liTp=[]\n",
    "    for i in range(n):\n",
    "        nLi=int(input(\"Enter the Size of list:\"))\n",
    "        li=[]\n",
    "        for i in range(nLi):\n",
    "            element=int(input(\"Enter the element:\"))\n",
    "            li.append(element)\n",
    "        liTp.append(li)\n",
    "    return tuple(liTp)\n"
   ]
  },
  {
   "cell_type": "code",
   "execution_count": 34,
   "metadata": {},
   "outputs": [
    {
     "name": "stdout",
     "output_type": "stream",
     "text": [
      "------------------------------------------------------------\n",
      "Add list in a tuple\n",
      "Enter the Size of tuple:2\n",
      "Enter the Size of list:3\n",
      "Enter the element:1\n",
      "Enter the element:2\n",
      "Enter the element:3\n",
      "Enter the Size of list:2\n",
      "Enter the element:2\n",
      "Enter the element:5\n",
      "([1, 2, 3], [2, 5])\n"
     ]
    }
   ],
   "source": [
    "n=int(input(\"Enter the Size of list:\"))\n",
    "li=[]\n",
    "\n",
    "print('Add tuple in a list')\n",
    "for i in range(n):\n",
    "        tp=createTuple()\n",
    "        li.append(tp)\n",
    "print(li)\n",
    "\n",
    "print('------------------------------------------------------------')\n",
    "\n",
    "print('Add list in a tuple')\n",
    "tp=createTpOfLi()\n",
    "print(tp)\n"
   ]
  },
  {
   "cell_type": "markdown",
   "metadata": {},
   "source": [
    "### 07) WAP to remove tuples of length K."
   ]
  },
  {
   "cell_type": "code",
   "execution_count": 36,
   "metadata": {},
   "outputs": [
    {
     "name": "stdout",
     "output_type": "stream",
     "text": [
      "Enter the Size of list:2\n",
      "Enter the Size of tuple:2\n",
      "Enter the element:1\n",
      "Enter the element:2\n",
      "Enter the Size of tuple:3\n",
      "Enter the element:2\n",
      "Enter the element:4\n",
      "Enter the element:5\n",
      "Enter k: 2\n",
      "[(2, 4, 5)]\n"
     ]
    }
   ],
   "source": [
    "n=int(input(\"Enter the Size of list:\"))\n",
    "li=[]\n",
    "\n",
    "for i in range(n):\n",
    "        tp=createTuple()\n",
    "        li.append(tp)\n",
    "\n",
    "k=int(input(\"Enter k: \"))\n",
    "\n",
    "for i in li:\n",
    "    if(len(i)==k):\n",
    "        li.remove(i)\n",
    "print(li)"
   ]
  },
  {
   "cell_type": "markdown",
   "metadata": {},
   "source": [
    "### 08) WAP to remove duplicates from tuple."
   ]
  },
  {
   "cell_type": "code",
   "execution_count": 38,
   "metadata": {},
   "outputs": [
    {
     "name": "stdout",
     "output_type": "stream",
     "text": [
      "Enter the Size of tuple:3\n",
      "Enter the element:1\n",
      "Enter the element:1\n",
      "Enter the element:1\n",
      "(1,)\n"
     ]
    }
   ],
   "source": [
    "tp = createTuple()\n",
    "tp= tuple(set(tp))\n",
    "print(tp)"
   ]
  },
  {
   "cell_type": "markdown",
   "metadata": {},
   "source": [
    "### 09) WAP to multiply adjacent elements of a tuple and print that resultant tuple."
   ]
  },
  {
   "cell_type": "code",
   "execution_count": 43,
   "metadata": {},
   "outputs": [],
   "source": [
    "def multiplyAdj(tp):\n",
    "    li=list(tp)\n",
    "    liTp=[]\n",
    "    for i in range(len(li)-1):\n",
    "        liTp.append(li[i]*li[i+1])\n",
    "    return tuple(liTp)"
   ]
  },
  {
   "cell_type": "code",
   "execution_count": 46,
   "metadata": {},
   "outputs": [
    {
     "name": "stdout",
     "output_type": "stream",
     "text": [
      "Enter the Size of tuple:4\n",
      "Enter the element:2\n",
      "Enter the element:4\n",
      "Enter the element:6\n",
      "Enter the element:8\n",
      "(8, 24, 48)\n"
     ]
    }
   ],
   "source": [
    "tp = createTuple()\n",
    "tpAns=multiplyAdj(tp)\n",
    "print(tpAns)"
   ]
  },
  {
   "cell_type": "markdown",
   "metadata": {},
   "source": [
    "### 10) WAP to test if the given tuple is distinct or not."
   ]
  },
  {
   "cell_type": "code",
   "execution_count": 57,
   "metadata": {},
   "outputs": [
    {
     "name": "stdout",
     "output_type": "stream",
     "text": [
      "Enter the Size of tuple:6\n",
      "Enter the element:2\n",
      "Enter the element:3\n",
      "Enter the element:2\n",
      "Enter the element:3\n",
      "Enter the element:5\n",
      "Enter the element:6\n",
      "(2, 3, 2, 3, 5, 6) is not distinct\n"
     ]
    }
   ],
   "source": [
    "tp = createTuple()\n",
    "ans=True\n",
    "di=dict.fromkeys(tp,0)\n",
    "for i in tp:\n",
    "    di[i]+=1\n",
    "    if(di[i]>1):\n",
    "        ans=False\n",
    "        break\n",
    "        \n",
    "if(ans):\n",
    "    print(tp,'is distinct')\n",
    "else:\n",
    "    print(tp,'is not distinct')        "
   ]
  }
 ],
 "metadata": {
  "kernelspec": {
   "display_name": "Python 3 (ipykernel)",
   "language": "python",
   "name": "python3"
  },
  "language_info": {
   "codemirror_mode": {
    "name": "ipython",
    "version": 3
   },
   "file_extension": ".py",
   "mimetype": "text/x-python",
   "name": "python",
   "nbconvert_exporter": "python",
   "pygments_lexer": "ipython3",
   "version": "3.10.9"
  }
 },
 "nbformat": 4,
 "nbformat_minor": 4
}
